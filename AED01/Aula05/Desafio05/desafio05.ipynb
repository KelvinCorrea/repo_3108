{
 "cells": [
  {
   "cell_type": "code",
   "execution_count": 19,
   "id": "ea27faea-6b83-492e-b677-1c3c6c861a13",
   "metadata": {},
   "outputs": [
    {
     "name": "stdin",
     "output_type": "stream",
     "text": [
      "Digite um valor inteiro,  positivo, maior que zero: 7\n",
      " Digite uma frase que desejar:  Eu sou capaz!!!\n"
     ]
    },
    {
     "name": "stdout",
     "output_type": "stream",
     "text": [
      " Sua frase é: EU SOU CAPAZ!!!, e seu número é: 7.0\n"
     ]
    }
   ],
   "source": [
    "numero = int(input(\"Digite um valor inteiro,  positivo, maior que zero:\"))\n",
    "texto = input(\" Digite uma frase que desejar: \")\n",
    "x = float(numero)\n",
    "texto.upper()\n",
    "print(F\" Sua frase é: {texto.upper()}, e seu número é: {x}\")  \n"
   ]
  },
  {
   "cell_type": "code",
   "execution_count": null,
   "id": "0ee31da7-7d61-473c-bd97-d1a9b50f6708",
   "metadata": {},
   "outputs": [],
   "source": []
  }
 ],
 "metadata": {
  "kernelspec": {
   "display_name": "Python 3 (ipykernel)",
   "language": "python",
   "name": "python3"
  },
  "language_info": {
   "codemirror_mode": {
    "name": "ipython",
    "version": 3
   },
   "file_extension": ".py",
   "mimetype": "text/x-python",
   "name": "python",
   "nbconvert_exporter": "python",
   "pygments_lexer": "ipython3",
   "version": "3.12.4"
  }
 },
 "nbformat": 4,
 "nbformat_minor": 5
}
